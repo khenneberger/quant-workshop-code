{
 "cells": [
  {
   "cell_type": "code",
   "execution_count": 1,
   "id": "98d44a99-8c89-4186-9698-f00453f73865",
   "metadata": {},
   "outputs": [],
   "source": [
    "import pandas as pd\n",
    "import numpy as np\n",
    "import matplotlib.pyplot as plt\n",
    "!pip install pmdarima --quiet\n",
    "import pmdarima as pm\n",
    "from datetime import date, timedelta, datetime"
   ]
  },
  {
   "cell_type": "code",
   "execution_count": 4,
   "id": "2964b288-a9f1-434f-baab-0d0b825bf81b",
   "metadata": {},
   "outputs": [],
   "source": [
    "# load the data\n",
    "data = pd.read_csv('Nat_Gas.csv')"
   ]
  },
  {
   "cell_type": "code",
   "execution_count": 5,
   "id": "947325f3-60e2-48d7-911b-7f8956f7aec2",
   "metadata": {},
   "outputs": [],
   "source": [
    "# preprocess the data\n",
    "data['Dates'] = pd.to_datetime(data['Dates'])\n",
    "prices = data['Prices'].values\n",
    "dates = data['Dates'].values\n",
    "data = data.set_index(['Dates'])\n",
    "daily_data = data.resample('D').ffill()\n",
    "# Reset the index to include all daily dates\n",
    "daily_data.reset_index(inplace=True)\n",
    "daily_data = daily_data.set_index(['Dates'])"
   ]
  },
  {
   "cell_type": "code",
   "execution_count": 6,
   "id": "50351be0-0c87-4e63-a06d-3443d0fa5210",
   "metadata": {},
   "outputs": [],
   "source": [
    "def sarima_forecast(data, input_date_str, periods=24):\n",
    "    # Fit a SARIMA model using auto_arima\n",
    "    SARIMA_model = pm.auto_arima(data, start_p=1, start_q=1, max_p=3, max_q=3, m=12, start_P=0,\n",
    "                             seasonal=True, d=None, D=1, trace=False, error_action='ignore', suppress_warnings=True, stepwise=True)\n",
    "\n",
    "    # Parse the input date\n",
    "    input_date = pd.to_datetime(input_date_str)\n",
    "\n",
    "    # Forecast for the input date and specified number of periods\n",
    "    forecast = SARIMA_model.predict(n_periods=periods)\n",
    "    \n",
    "    # Extract the forecasted price for the input date\n",
    "    input_date_index = pd.date_range(start=input_date, periods=1, freq='M')\n",
    "    forecasted_price = forecast[input_date_index[0]]\n",
    "\n",
    "    return forecasted_price"
   ]
  },
  {
   "cell_type": "code",
   "execution_count": 11,
   "id": "9827d518-52ff-473d-b883-7b5d0ae71c26",
   "metadata": {},
   "outputs": [],
   "source": [
    "def calculate_contract_value(data,daily_data,injection_dates, withdrawal_dates, injection_rate, withdrawal_rate, max_volume, storage_cost):\n",
    "    total_value = 0\n",
    "\n",
    "    # Ensure input lists have the same length\n",
    "    if len(injection_dates) != len(withdrawal_dates):\n",
    "        raise ValueError(\"Input lists must have the same length.\")\n",
    "\n",
    "    for i in range(len(injection_dates)):\n",
    "        injection_date = pd.to_datetime(injection_dates[i])\n",
    "        withdrawal_date = pd.to_datetime(withdrawal_dates[i])\n",
    "        if injection_date < pd.to_datetime(\"2024-09-30\"):\n",
    "            buy_price = daily_data[daily_data.index == injection_date]['Prices'].values[0]\n",
    "        else:\n",
    "            buy_price = sarima_forecast(data['Prices'],injection_date)\n",
    "        if withdrawal_date < pd.to_datetime(\"2024-09-30\"):\n",
    "            sell_price =  daily_data[daily_data.index == withdrawal_date]['Prices'].values[0]\n",
    "        else:\n",
    "            sell_price = sarima_forecast(data['Prices'],withdrawal_date)\n",
    "        # Calculate the value for each injection/withdrawal cycle\n",
    "        value = (sell_price - buy_price) * min(max_volume, injection_rate * (withdrawal_date - injection_date).days)\n",
    "        value -= storage_cost * (withdrawal_date - injection_date).days\n",
    "\n",
    "        # Add the value to the total\n",
    "        total_value += value\n",
    "    return total_value"
   ]
  },
  {
   "cell_type": "code",
   "execution_count": 12,
   "id": "2c5843e9-421f-4208-a5fb-29f3ce9540f8",
   "metadata": {},
   "outputs": [
    {
     "data": {
      "text/plain": [
       "5882514.905531632"
      ]
     },
     "execution_count": 12,
     "metadata": {},
     "output_type": "execute_result"
    }
   ],
   "source": [
    "# Sample inputs:\n",
    "\n",
    "injection_dates = [\"2023-11-30\", \"2024-10-01\"]\n",
    "withdrawal_dates = [\"2025-03-01\", \"2025-2-01\"]\n",
    "injection_rate = 10000  # MMBtu per day\n",
    "withdrawal_rate = 10000  # MMBtu per day\n",
    "max_volume = 10000000  # Maximum storage volume\n",
    "storage_cost = 100  # Cost per day\n",
    "\n",
    "contract_value = calculate_contract_value(data,daily_data,injection_dates, withdrawal_dates, injection_rate, withdrawal_rate, max_volume, storage_cost)\n",
    "contract_value"
   ]
  }
 ],
 "metadata": {
  "kernelspec": {
   "display_name": "Python 3 (ipykernel)",
   "language": "python",
   "name": "python3"
  },
  "language_info": {
   "codemirror_mode": {
    "name": "ipython",
    "version": 3
   },
   "file_extension": ".py",
   "mimetype": "text/x-python",
   "name": "python",
   "nbconvert_exporter": "python",
   "pygments_lexer": "ipython3",
   "version": "3.9.12"
  }
 },
 "nbformat": 4,
 "nbformat_minor": 5
}
