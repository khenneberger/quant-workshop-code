{
 "cells": [
  {
   "cell_type": "code",
   "execution_count": 1,
   "id": "adda896a-02dc-463e-a69e-9842f7aa5e39",
   "metadata": {},
   "outputs": [],
   "source": [
    "import pandas as pd\n",
    "from sklearn.model_selection import train_test_split\n",
    "from sklearn.linear_model import LogisticRegression\n",
    "from sklearn.metrics import accuracy_score, roc_auc_score\n",
    "!pip install xgboost --quiet\n",
    "import xgboost as xgb\n",
    "from sklearn.tree import DecisionTreeClassifier"
   ]
  },
  {
   "cell_type": "code",
   "execution_count": 2,
   "id": "961c6d03-7bb7-44c9-8045-877a9d2102bf",
   "metadata": {},
   "outputs": [],
   "source": [
    "data = pd.read_csv('Loan_Data.csv')"
   ]
  },
  {
   "cell_type": "code",
   "execution_count": 3,
   "id": "895d7d42-7c40-4dac-af59-48de607594dc",
   "metadata": {},
   "outputs": [],
   "source": [
    "# Construct Validation Data\n",
    "X = data[['credit_lines_outstanding', 'loan_amt_outstanding', 'total_debt_outstanding', 'income', 'years_employed', 'fico_score']]\n",
    "y = data['default']\n",
    "X_train, X_test, y_train, y_test = train_test_split(X, y, test_size=0.2, random_state=2022)"
   ]
  },
  {
   "cell_type": "code",
   "execution_count": 4,
   "id": "143fa5eb-3d83-4de4-9f01-585f232f1565",
   "metadata": {},
   "outputs": [
    {
     "name": "stdout",
     "output_type": "stream",
     "text": [
      "Logistic Regression Results:\n",
      "Accuracy: 0.98\n",
      "ROC AUC: 0.9985759493670886\n",
      "Expected Loss: 1855.7003668631414\n"
     ]
    }
   ],
   "source": [
    "# Train a logistic regression model\n",
    "model = LogisticRegression()\n",
    "model.fit(X_train, y_train)\n",
    "# Predict PD for test data\n",
    "y_pred_prob = model.predict_proba(X_test)[:,1]\n",
    "\n",
    "# Evaluate the model\n",
    "accuracy = accuracy_score(y_test, y_pred_prob > 0.5)\n",
    "roc_auc = roc_auc_score(y_test, y_pred_prob)\n",
    "\n",
    "# Calculate expected loss\n",
    "recovery_rate = 0.1\n",
    "exposure = 10000  # Replace with the loan amount\n",
    "expected_loss = y_pred_prob * exposure * (1 - recovery_rate)\n",
    "\n",
    "print(\"Logistic Regression Results:\")\n",
    "print(f'Accuracy: {accuracy}')\n",
    "print(f'ROC AUC: {roc_auc}')\n",
    "print(f'Expected Loss: {expected_loss.mean()}')"
   ]
  },
  {
   "cell_type": "code",
   "execution_count": 5,
   "id": "cc5ecad5-2064-472f-ac82-36ef296aa19a",
   "metadata": {},
   "outputs": [
    {
     "name": "stdout",
     "output_type": "stream",
     "text": [
      "Decision Tree Model Results:\n",
      "Accuracy: 0.9935\n",
      "ROC AUC: 0.9888939119951778\n",
      "Expected Loss: 1876.5\n"
     ]
    }
   ],
   "source": [
    "# We can compare this with a Decision Tree model\n",
    "#Train a Decision Tree model\n",
    "model = DecisionTreeClassifier()\n",
    "model.fit(X_train, y_train)\n",
    "\n",
    "# Predict PD for test data\n",
    "y_pred_prob = model.predict_proba(X_test)[:, 1]\n",
    "\n",
    "# Evaluate the model\n",
    "accuracy = accuracy_score(y_test, y_pred_prob > 0.5)\n",
    "roc_auc = roc_auc_score(y_test, y_pred_prob)\n",
    "\n",
    "# Calculate expected loss\n",
    "recovery_rate = 0.1\n",
    "exposure = 10000  # Replace with the loan amount\n",
    "expected_loss = y_pred_prob * exposure * (1 - recovery_rate)\n",
    "\n",
    "print(\"Decision Tree Model Results:\")\n",
    "print(f'Accuracy: {accuracy}')\n",
    "print(f'ROC AUC: {roc_auc}')\n",
    "print(f'Expected Loss: {expected_loss.mean()}')"
   ]
  },
  {
   "cell_type": "code",
   "execution_count": 6,
   "id": "3d85772a-5655-45bd-b778-47f83c62752e",
   "metadata": {},
   "outputs": [
    {
     "name": "stdout",
     "output_type": "stream",
     "text": [
      "XGBoost Model Results:\n",
      "Accuracy: 0.9975\n",
      "ROC AUC: 0.9998915009041591\n",
      "Expected Loss: 1876.2840576171875\n"
     ]
    }
   ],
   "source": [
    "# Train an XGBoost model\n",
    "model = xgb.XGBClassifier()\n",
    "model.fit(X_train, y_train)\n",
    "\n",
    "# Predict PD for test data\n",
    "y_pred_prob = model.predict_proba(X_test)[:, 1]\n",
    "\n",
    "# Evaluate the model\n",
    "accuracy = accuracy_score(y_test, y_pred_prob > 0.5)\n",
    "roc_auc = roc_auc_score(y_test, y_pred_prob)\n",
    "\n",
    "# Calculate expected loss\n",
    "recovery_rate = 0.1\n",
    "exposure = 10000  # Replace with the loan amount\n",
    "expected_loss = y_pred_prob * exposure * (1 - recovery_rate)\n",
    "\n",
    "print(\"XGBoost Model Results:\")\n",
    "print(f'Accuracy: {accuracy}')\n",
    "print(f'ROC AUC: {roc_auc}')\n",
    "print(f'Expected Loss: {expected_loss.mean()}')"
   ]
  },
  {
   "cell_type": "markdown",
   "id": "d1cca9b8-858c-4798-9eed-12b8b940b829",
   "metadata": {},
   "source": [
    "Some Observations:\n",
    "\n",
    "All three models perform well with the decision tree model and the xgboost model performing better than linear regression. A high AUC means our model is good at identifying potential defaulters, which can help mitigate financial losses. Since accurately identifying potential loan defaults is a primary concern of the client, a high AUC is more important than a high accuracy score. Of the three models compared here, xgboost is the best choice."
   ]
  }
 ],
 "metadata": {
  "kernelspec": {
   "display_name": "Python 3 (ipykernel)",
   "language": "python",
   "name": "python3"
  },
  "language_info": {
   "codemirror_mode": {
    "name": "ipython",
    "version": 3
   },
   "file_extension": ".py",
   "mimetype": "text/x-python",
   "name": "python",
   "nbconvert_exporter": "python",
   "pygments_lexer": "ipython3",
   "version": "3.9.12"
  }
 },
 "nbformat": 4,
 "nbformat_minor": 5
}
